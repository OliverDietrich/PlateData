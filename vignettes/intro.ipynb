{
 "cells": [
  {
   "cell_type": "code",
   "execution_count": 162,
   "id": "8d4e122a-a779-410d-ab79-b5a253b1e501",
   "metadata": {},
   "outputs": [],
   "source": [
    "# Libraries\n",
    "library(devtools)\n",
    "library(dplyr)\n",
    "pkg <- \"../../PlateData\""
   ]
  },
  {
   "cell_type": "code",
   "execution_count": 211,
   "id": "70b24b37-0096-4a6c-8bf4-baf937bddcc6",
   "metadata": {},
   "outputs": [
    {
     "name": "stderr",
     "output_type": "stream",
     "text": [
      "\u001b[1m\u001b[22m\u001b[36mi\u001b[39m Loading \u001b[34mmicrotiter.plate.toolkit\u001b[39m\n",
      "Creating a new generic function for 'layout' in package 'microtiter.plate.toolkit'\n",
      "\n",
      "Creating a new generic function for 'data' in package 'microtiter.plate.toolkit'\n",
      "\n",
      "\u001b[1m\u001b[22m\u001b[36mi\u001b[39m Updating \u001b[34mmicrotiter.plate.toolkit\u001b[39m documentation\n",
      "\u001b[1m\u001b[22m\u001b[36mi\u001b[39m Loading \u001b[34mmicrotiter.plate.toolkit\u001b[39m\n",
      "Creating a new generic function for 'layout' in package 'microtiter.plate.toolkit'\n",
      "\n",
      "Creating a new generic function for 'data' in package 'microtiter.plate.toolkit'\n",
      "\n",
      "\u001b[1m\u001b[22mWriting \u001b[34mplot_series.Rd\u001b[39m\n"
     ]
    }
   ],
   "source": [
    "load_all(pkg)\n",
    "document(pkg)"
   ]
  },
  {
   "cell_type": "code",
   "execution_count": 212,
   "id": "49f0da7f-85b1-40a6-a6b3-5fdbaa87503f",
   "metadata": {},
   "outputs": [
    {
     "data": {
      "text/plain": [
       "PlateData \n",
       " Total 174 wells (see layout) \n",
       " across 4 plates (see type) \n",
       " measuring 0 data points \n",
       " \n",
       "layout \n",
       "'data.frame':\t174 obs. of  4 variables:\n",
       " $ plate: chr  \"P1\" \"P1\" \"P1\" \"P1\" ...\n",
       " $ well : chr  \"A1\" \"A2\" \"A3\" \"A4\" ...\n",
       " $ row  : Factor w/ 8 levels \"A\",\"B\",\"C\",\"D\",..: 1 1 1 1 1 1 2 2 2 2 ...\n",
       " $ col  : Factor w/ 12 levels \"1\",\"2\",\"3\",\"4\",..: 1 2 3 4 5 6 1 2 3 4 ...\n",
       "\n",
       "data \n",
       "'data.frame':\t0 obs. of  0 variables\n",
       "\n",
       "key: key \n",
       "\n",
       "type: 24-well 6-well 48-well 96-well"
      ]
     },
     "metadata": {},
     "output_type": "display_data"
    },
    {
     "data": {
      "image/png": "[encoded data removed]",
      "text/plain": [
       "plot without title"
      ]
     },
     "metadata": {
      "image/png": {
       "height": 300,
       "width": 1200
      }
     },
     "output_type": "display_data"
    }
   ],
   "source": [
    "# Temporary - show toy data\n",
    "options(repr.plot.width=20, repr.plot.height=5)\n",
    "\n",
    "# Create layout without measurements\n",
    "pd <- CreatePlateData(layout = rbind(\n",
    "    dummyPlate(\"24-well\", plate_name = \"P1\"),\n",
    "    dummyPlate(\"6-well\", plate_name = \"P2\"),\n",
    "    dummyPlate(\"48-well\", plate_name = \"P3\"),\n",
    "    dummyPlate(\"96-well\", plate_name = \"P4\")\n",
    "                                ),\n",
    "                      key = \"key\"\n",
    "    )\n",
    "pd\n",
    "\n",
    "# Visualize plates\n",
    "plot_plateLayout(pd)"
   ]
  },
  {
   "cell_type": "code",
   "execution_count": 216,
   "id": "b88d7c03-2378-4ad8-bd31-dabe91aabd37",
   "metadata": {},
   "outputs": [],
   "source": [
    "data(pd) <- data.frame(\n",
    "    \"key\" = row.names(layout(pd)),\n",
    "    \"replicate\" = rep(1:4, times=nrow(layout(pd))*2)\n",
    ")\n",
    "data(pd)$count <- rnorm(nrow(data(pd)), 1, 2)"
   ]
  },
  {
   "cell_type": "code",
   "execution_count": null,
   "id": "c50ab5a1-6656-4b70-96d8-54cd78f721bf",
   "metadata": {},
   "outputs": [
    {
     "data": {
      "text/plain": [
       "PlateData \n",
       " Total 174 wells (see layout) \n",
       " across 4 plates (see type) \n",
       " measuring 1392 data points \n",
       " \n",
       "layout \n",
       "'data.frame':\t174 obs. of  4 variables:\n",
       " $ plate: chr  \"P1\" \"P1\" \"P1\" \"P1\" ...\n",
       " $ well : chr  \"A1\" \"A2\" \"A3\" \"A4\" ...\n",
       " $ row  : Factor w/ 8 levels \"A\",\"B\",\"C\",\"D\",..: 1 1 1 1 1 1 2 2 2 2 ...\n",
       " $ col  : Factor w/ 12 levels \"1\",\"2\",\"3\",\"4\",..: 1 2 3 4 5 6 1 2 3 4 ...\n",
       "\n",
       "data \n",
       "'data.frame':\t1392 obs. of  3 variables:\n",
       " $ key      : chr  \"P1_A1\" \"P1_A2\" \"P1_A3\" \"P1_A4\" ...\n",
       " $ replicate: int  1 2 3 4 1 2 3 4 1 2 ...\n",
       " $ count    : num  0.559 2.752 3.452 -0.239 4.883 ...\n",
       "\n",
       "key: key \n",
       "\n",
       "type: 24-well 6-well 48-well 96-well"
      ]
     },
     "metadata": {},
     "output_type": "display_data"
    }
   ],
   "source": [
    "pd\n",
    "plot_series(pd, \"replicate\", \"count\", col = \"key\", facet_rows=1)"
   ]
  }
 ],
 "metadata": {
  "kernelspec": {
   "display_name": "R",
   "language": "R",
   "name": "ir"
  },
  "language_info": {
   "codemirror_mode": "r",
   "file_extension": ".r",
   "mimetype": "text/x-r-source",
   "name": "R",
   "pygments_lexer": "r",
   "version": "4.1.3"
  }
 },
 "nbformat": 4,
 "nbformat_minor": 5
}
